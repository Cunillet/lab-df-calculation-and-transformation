{
 "cells": [
  {
   "cell_type": "markdown",
   "metadata": {},
   "source": [
    "# Challenge 3\n",
    "\n",
    "In this challenge we will work on the `Orders` data set. In your work you will apply the thinking process and workflow we showed you in Challenge 2.\n",
    "\n",
    "You are serving as a Business Intelligence Analyst at the headquarter of an international fashion goods chain store. Your boss today asked you to do two things for her:\n",
    "\n",
    "**First, identify two groups of customers from the data set.** The first group is **VIP Customers** whose **aggregated expenses** at your global chain stores are **above the 95th percentile** (aka. 0.95 quantile). The second group is **Preferred Customers** whose **aggregated expenses** are **between the 75th and 95th percentile**.\n",
    "\n",
    "**Second, identify which country has the most of your VIP customers, and which country has the most of your VIP+Preferred Customers combined.**"
   ]
  },
  {
   "cell_type": "markdown",
   "metadata": {},
   "source": [
    "## Q1: How to identify VIP & Preferred Customers?\n",
    "\n",
    "We start by importing all the required libraries:"
   ]
  },
  {
   "cell_type": "code",
   "execution_count": 96,
   "metadata": {},
   "outputs": [],
   "source": [
    "# import required libraries\n",
    "import numpy as np\n",
    "import pandas as pd"
   ]
  },
  {
   "cell_type": "markdown",
   "metadata": {},
   "source": [
    "Next, import `Orders` from Ironhack's database into a dataframe variable called `orders`. Print the head of `orders` to overview the data:"
   ]
  },
  {
   "cell_type": "code",
   "execution_count": 97,
   "metadata": {},
   "outputs": [
    {
     "data": {
      "text/html": "<div>\n<style scoped>\n    .dataframe tbody tr th:only-of-type {\n        vertical-align: middle;\n    }\n\n    .dataframe tbody tr th {\n        vertical-align: top;\n    }\n\n    .dataframe thead th {\n        text-align: right;\n    }\n</style>\n<table border=\"1\" class=\"dataframe\">\n  <thead>\n    <tr style=\"text-align: right;\">\n      <th></th>\n      <th>index</th>\n      <th>InvoiceNo</th>\n      <th>StockCode</th>\n      <th>year</th>\n      <th>month</th>\n      <th>day</th>\n      <th>hour</th>\n      <th>Description</th>\n      <th>Quantity</th>\n      <th>InvoiceDate</th>\n      <th>UnitPrice</th>\n      <th>CustomerID</th>\n      <th>Country</th>\n      <th>amount_spent</th>\n    </tr>\n  </thead>\n  <tbody>\n    <tr>\n      <th>0</th>\n      <td>0</td>\n      <td>536365</td>\n      <td>85123A</td>\n      <td>2010</td>\n      <td>12</td>\n      <td>3</td>\n      <td>8</td>\n      <td>white hanging heart t-light holder</td>\n      <td>6</td>\n      <td>2010-12-01 08:26:00</td>\n      <td>2.55</td>\n      <td>17850</td>\n      <td>United Kingdom</td>\n      <td>15.30</td>\n    </tr>\n    <tr>\n      <th>1</th>\n      <td>1</td>\n      <td>536365</td>\n      <td>71053</td>\n      <td>2010</td>\n      <td>12</td>\n      <td>3</td>\n      <td>8</td>\n      <td>white metal lantern</td>\n      <td>6</td>\n      <td>2010-12-01 08:26:00</td>\n      <td>3.39</td>\n      <td>17850</td>\n      <td>United Kingdom</td>\n      <td>20.34</td>\n    </tr>\n    <tr>\n      <th>2</th>\n      <td>2</td>\n      <td>536365</td>\n      <td>84406B</td>\n      <td>2010</td>\n      <td>12</td>\n      <td>3</td>\n      <td>8</td>\n      <td>cream cupid hearts coat hanger</td>\n      <td>8</td>\n      <td>2010-12-01 08:26:00</td>\n      <td>2.75</td>\n      <td>17850</td>\n      <td>United Kingdom</td>\n      <td>22.00</td>\n    </tr>\n    <tr>\n      <th>3</th>\n      <td>3</td>\n      <td>536365</td>\n      <td>84029G</td>\n      <td>2010</td>\n      <td>12</td>\n      <td>3</td>\n      <td>8</td>\n      <td>knitted union flag hot water bottle</td>\n      <td>6</td>\n      <td>2010-12-01 08:26:00</td>\n      <td>3.39</td>\n      <td>17850</td>\n      <td>United Kingdom</td>\n      <td>20.34</td>\n    </tr>\n    <tr>\n      <th>4</th>\n      <td>4</td>\n      <td>536365</td>\n      <td>84029E</td>\n      <td>2010</td>\n      <td>12</td>\n      <td>3</td>\n      <td>8</td>\n      <td>red woolly hottie white heart.</td>\n      <td>6</td>\n      <td>2010-12-01 08:26:00</td>\n      <td>3.39</td>\n      <td>17850</td>\n      <td>United Kingdom</td>\n      <td>20.34</td>\n    </tr>\n    <tr>\n      <th>...</th>\n      <td>...</td>\n      <td>...</td>\n      <td>...</td>\n      <td>...</td>\n      <td>...</td>\n      <td>...</td>\n      <td>...</td>\n      <td>...</td>\n      <td>...</td>\n      <td>...</td>\n      <td>...</td>\n      <td>...</td>\n      <td>...</td>\n      <td>...</td>\n    </tr>\n    <tr>\n      <th>397919</th>\n      <td>397919</td>\n      <td>581587</td>\n      <td>22613</td>\n      <td>2011</td>\n      <td>12</td>\n      <td>5</td>\n      <td>12</td>\n      <td>pack of 20 spaceboy napkins</td>\n      <td>12</td>\n      <td>2011-12-09 12:50:00</td>\n      <td>0.85</td>\n      <td>12680</td>\n      <td>France</td>\n      <td>10.20</td>\n    </tr>\n    <tr>\n      <th>397920</th>\n      <td>397920</td>\n      <td>581587</td>\n      <td>22899</td>\n      <td>2011</td>\n      <td>12</td>\n      <td>5</td>\n      <td>12</td>\n      <td>children s apron dolly girl</td>\n      <td>6</td>\n      <td>2011-12-09 12:50:00</td>\n      <td>2.10</td>\n      <td>12680</td>\n      <td>France</td>\n      <td>12.60</td>\n    </tr>\n    <tr>\n      <th>397921</th>\n      <td>397921</td>\n      <td>581587</td>\n      <td>23254</td>\n      <td>2011</td>\n      <td>12</td>\n      <td>5</td>\n      <td>12</td>\n      <td>childrens cutlery dolly girl</td>\n      <td>4</td>\n      <td>2011-12-09 12:50:00</td>\n      <td>4.15</td>\n      <td>12680</td>\n      <td>France</td>\n      <td>16.60</td>\n    </tr>\n    <tr>\n      <th>397922</th>\n      <td>397922</td>\n      <td>581587</td>\n      <td>23255</td>\n      <td>2011</td>\n      <td>12</td>\n      <td>5</td>\n      <td>12</td>\n      <td>childrens cutlery circus parade</td>\n      <td>4</td>\n      <td>2011-12-09 12:50:00</td>\n      <td>4.15</td>\n      <td>12680</td>\n      <td>France</td>\n      <td>16.60</td>\n    </tr>\n    <tr>\n      <th>397923</th>\n      <td>397923</td>\n      <td>581587</td>\n      <td>22138</td>\n      <td>2011</td>\n      <td>12</td>\n      <td>5</td>\n      <td>12</td>\n      <td>baking set 9 piece retrospot</td>\n      <td>3</td>\n      <td>2011-12-09 12:50:00</td>\n      <td>4.95</td>\n      <td>12680</td>\n      <td>France</td>\n      <td>14.85</td>\n    </tr>\n  </tbody>\n</table>\n<p>397924 rows × 14 columns</p>\n</div>",
      "text/plain": "         index  InvoiceNo StockCode  year  month  day  hour  \\\n0            0     536365    85123A  2010     12    3     8   \n1            1     536365     71053  2010     12    3     8   \n2            2     536365    84406B  2010     12    3     8   \n3            3     536365    84029G  2010     12    3     8   \n4            4     536365    84029E  2010     12    3     8   \n...        ...        ...       ...   ...    ...  ...   ...   \n397919  397919     581587     22613  2011     12    5    12   \n397920  397920     581587     22899  2011     12    5    12   \n397921  397921     581587     23254  2011     12    5    12   \n397922  397922     581587     23255  2011     12    5    12   \n397923  397923     581587     22138  2011     12    5    12   \n\n                                Description  Quantity          InvoiceDate  \\\n0        white hanging heart t-light holder         6  2010-12-01 08:26:00   \n1                       white metal lantern         6  2010-12-01 08:26:00   \n2            cream cupid hearts coat hanger         8  2010-12-01 08:26:00   \n3       knitted union flag hot water bottle         6  2010-12-01 08:26:00   \n4            red woolly hottie white heart.         6  2010-12-01 08:26:00   \n...                                     ...       ...                  ...   \n397919          pack of 20 spaceboy napkins        12  2011-12-09 12:50:00   \n397920          children s apron dolly girl         6  2011-12-09 12:50:00   \n397921         childrens cutlery dolly girl         4  2011-12-09 12:50:00   \n397922      childrens cutlery circus parade         4  2011-12-09 12:50:00   \n397923         baking set 9 piece retrospot         3  2011-12-09 12:50:00   \n\n        UnitPrice  CustomerID         Country  amount_spent  \n0            2.55       17850  United Kingdom         15.30  \n1            3.39       17850  United Kingdom         20.34  \n2            2.75       17850  United Kingdom         22.00  \n3            3.39       17850  United Kingdom         20.34  \n4            3.39       17850  United Kingdom         20.34  \n...           ...         ...             ...           ...  \n397919       0.85       12680          France         10.20  \n397920       2.10       12680          France         12.60  \n397921       4.15       12680          France         16.60  \n397922       4.15       12680          France         16.60  \n397923       4.95       12680          France         14.85  \n\n[397924 rows x 14 columns]"
     },
     "execution_count": 97,
     "metadata": {},
     "output_type": "execute_result"
    }
   ],
   "source": [
    "# your code here\n",
    "from sqlalchemy import create_engine\n",
    "\n",
    "class Connector:\n",
    "    def __init__(self, connection_path):\n",
    "        self.engine = create_engine(connection_path)\n",
    "        self.conn = self.engine.connect()\n",
    "    \n",
    "    def read_sql(self, sql):\n",
    "        return pd.read_sql(sql, self.conn)\n",
    "\n",
    "    def to_sql(self, df, table_name, ifexists):\n",
    "        df.to_sql(table_name, self.conn, if_exists=ifexists)\n",
    "\n",
    "    def __del__(self):\n",
    "        print('-----------------------')\n",
    "        try:\n",
    "            self.conn.close()\n",
    "        except:\n",
    "            print('could not close connection')\n",
    "        try:\n",
    "            self.engine.dispose()\n",
    "        except:\n",
    "            print('could not close engine')\n",
    "        finally:\n",
    "            print('Connector destroyed.')\n",
    "\n",
    "\n",
    "driver   = 'mysql+pymysql:'\n",
    "user     = 'root'\n",
    "password = '53cawentOo69'\n",
    "ip       = 'localhost'\n",
    "database = 'orders'\n",
    "local = Connector(f'{driver}//{user}:{password}@{ip}/{database}')\n",
    "orders = local.read_sql('SELECT * FROM orders')\n",
    "orders\n"
   ]
  },
  {
   "cell_type": "markdown",
   "metadata": {},
   "source": [
    "---\n",
    "\n",
    "\"Identify VIP and Preferred Customers\" is the non-technical goal of your boss. You need to translate that goal into technical languages that data analysts use:\n",
    "\n",
    "## How to label customers whose aggregated `amount_spent` is in a given quantile range?\n"
   ]
  },
  {
   "cell_type": "markdown",
   "metadata": {},
   "source": [
    "We break down the main problem into several sub problems:\n",
    "\n",
    "#### Sub Problem 1: How to aggregate the  `amount_spent` for unique customers?\n",
    "\n",
    "#### Sub Problem 2: How to select customers whose aggregated `amount_spent` is in a given quantile range?\n",
    "\n",
    "#### Sub Problem 3: How to label selected customers as \"VIP\" or \"Preferred\"?\n",
    "\n",
    "*Note: If you want to break down the main problem in a different way, please feel free to revise the sub problems above.*\n",
    "\n",
    "Now in the workspace below, tackle each of the sub problems using the iterative problem solving workflow. Insert cells as necessary to write your codes and explain your steps."
   ]
  },
  {
   "cell_type": "code",
   "execution_count": 105,
   "metadata": {},
   "outputs": [
    {
     "name": "stderr",
     "output_type": "stream",
     "text": "/Users/Cunillet/Library/Python/3.7/lib/python/site-packages/ipykernel_launcher.py:6: SettingWithCopyWarning: \nA value is trying to be set on a copy of a slice from a DataFrame.\nTry using .loc[row_indexer,col_indexer] = value instead\n\nSee the caveats in the documentation: http://pandas.pydata.org/pandas-docs/stable/user_guide/indexing.html#returning-a-view-versus-a-copy\n  \n"
    },
    {
     "data": {
      "text/html": "<div>\n<style scoped>\n    .dataframe tbody tr th:only-of-type {\n        vertical-align: middle;\n    }\n\n    .dataframe tbody tr th {\n        vertical-align: top;\n    }\n\n    .dataframe thead th {\n        text-align: right;\n    }\n</style>\n<table border=\"1\" class=\"dataframe\">\n  <thead>\n    <tr style=\"text-align: right;\">\n      <th></th>\n      <th>CustomerID</th>\n      <th>Country</th>\n      <th>TotalPaid</th>\n    </tr>\n  </thead>\n  <tbody>\n    <tr>\n      <th>0</th>\n      <td>12346</td>\n      <td>United Kingdom</td>\n      <td>77183.60</td>\n    </tr>\n    <tr>\n      <th>1</th>\n      <td>12347</td>\n      <td>Iceland</td>\n      <td>4310.00</td>\n    </tr>\n    <tr>\n      <th>2</th>\n      <td>12348</td>\n      <td>Finland</td>\n      <td>1797.24</td>\n    </tr>\n    <tr>\n      <th>3</th>\n      <td>12349</td>\n      <td>Italy</td>\n      <td>1757.55</td>\n    </tr>\n    <tr>\n      <th>4</th>\n      <td>12350</td>\n      <td>Norway</td>\n      <td>334.40</td>\n    </tr>\n    <tr>\n      <th>...</th>\n      <td>...</td>\n      <td>...</td>\n      <td>...</td>\n    </tr>\n    <tr>\n      <th>4342</th>\n      <td>18280</td>\n      <td>United Kingdom</td>\n      <td>180.60</td>\n    </tr>\n    <tr>\n      <th>4343</th>\n      <td>18281</td>\n      <td>United Kingdom</td>\n      <td>80.82</td>\n    </tr>\n    <tr>\n      <th>4344</th>\n      <td>18282</td>\n      <td>United Kingdom</td>\n      <td>178.05</td>\n    </tr>\n    <tr>\n      <th>4345</th>\n      <td>18283</td>\n      <td>United Kingdom</td>\n      <td>2094.88</td>\n    </tr>\n    <tr>\n      <th>4346</th>\n      <td>18287</td>\n      <td>United Kingdom</td>\n      <td>1837.28</td>\n    </tr>\n  </tbody>\n</table>\n<p>4347 rows × 3 columns</p>\n</div>",
      "text/plain": "      CustomerID         Country  TotalPaid\n0          12346  United Kingdom   77183.60\n1          12347         Iceland    4310.00\n2          12348         Finland    1797.24\n3          12349           Italy    1757.55\n4          12350          Norway     334.40\n...          ...             ...        ...\n4342       18280  United Kingdom     180.60\n4343       18281  United Kingdom      80.82\n4344       18282  United Kingdom     178.05\n4345       18283  United Kingdom    2094.88\n4346       18287  United Kingdom    1837.28\n\n[4347 rows x 3 columns]"
     },
     "execution_count": 105,
     "metadata": {},
     "output_type": "execute_result"
    }
   ],
   "source": [
    "# your code here\n",
    "def get_sales_amount_item(row):\n",
    "    return row.Quantity * row.UnitPrice\n",
    "\n",
    "minimal = orders[['Quantity','UnitPrice','CustomerID','Country']]\n",
    "minimal['TotalPaid'] = minimal.apply(lambda row : get_sales_amount_item(row), axis=1)\n",
    "\n",
    "paid_by_customer = minimal.groupby(by=['CustomerID','Country'], as_index=False).agg({'TotalPaid':'sum'})\n",
    "#paid_by_customer = paid_by_customer.sort_values('TotalPaid', ascending=False)\n",
    "paid_by_customer"
   ]
  },
  {
   "cell_type": "code",
   "execution_count": 106,
   "metadata": {},
   "outputs": [
    {
     "data": {
      "text/html": "<div>\n<style scoped>\n    .dataframe tbody tr th:only-of-type {\n        vertical-align: middle;\n    }\n\n    .dataframe tbody tr th {\n        vertical-align: top;\n    }\n\n    .dataframe thead th {\n        text-align: right;\n    }\n</style>\n<table border=\"1\" class=\"dataframe\">\n  <thead>\n    <tr style=\"text-align: right;\">\n      <th></th>\n      <th>CustomerID</th>\n      <th>TotalPaid</th>\n    </tr>\n  </thead>\n  <tbody>\n    <tr>\n      <th>0.95</th>\n      <td>17982.8</td>\n      <td>5774.278</td>\n    </tr>\n    <tr>\n      <th>0.75</th>\n      <td>16776.5</td>\n      <td>1661.195</td>\n    </tr>\n  </tbody>\n</table>\n</div>",
      "text/plain": "      CustomerID  TotalPaid\n0.95     17982.8   5774.278\n0.75     16776.5   1661.195"
     },
     "execution_count": 106,
     "metadata": {},
     "output_type": "execute_result"
    }
   ],
   "source": [
    "\"\"\"bins = pd.cut(minimal.TotalPaid, 20, labels=list(range(20)))\n",
    "bins[bins == 19]\"\"\"\n",
    "q = paid_by_customer.quantile([0.95, 0.75], axis=0)\n",
    "q"
   ]
  },
  {
   "cell_type": "code",
   "execution_count": 110,
   "metadata": {},
   "outputs": [
    {
     "data": {
      "text/html": "<div>\n<style scoped>\n    .dataframe tbody tr th:only-of-type {\n        vertical-align: middle;\n    }\n\n    .dataframe tbody tr th {\n        vertical-align: top;\n    }\n\n    .dataframe thead th {\n        text-align: right;\n    }\n</style>\n<table border=\"1\" class=\"dataframe\">\n  <thead>\n    <tr style=\"text-align: right;\">\n      <th></th>\n      <th>CustomerID</th>\n      <th>Country</th>\n      <th>TotalPaid</th>\n      <th>Tag</th>\n    </tr>\n  </thead>\n  <tbody>\n    <tr>\n      <th>0</th>\n      <td>12346</td>\n      <td>United Kingdom</td>\n      <td>77183.60</td>\n      <td>VIP</td>\n    </tr>\n    <tr>\n      <th>1</th>\n      <td>12347</td>\n      <td>Iceland</td>\n      <td>4310.00</td>\n      <td>Preferred</td>\n    </tr>\n    <tr>\n      <th>2</th>\n      <td>12348</td>\n      <td>Finland</td>\n      <td>1797.24</td>\n      <td>Preferred</td>\n    </tr>\n    <tr>\n      <th>3</th>\n      <td>12349</td>\n      <td>Italy</td>\n      <td>1757.55</td>\n      <td>Preferred</td>\n    </tr>\n    <tr>\n      <th>4</th>\n      <td>12350</td>\n      <td>Norway</td>\n      <td>334.40</td>\n      <td>--</td>\n    </tr>\n    <tr>\n      <th>...</th>\n      <td>...</td>\n      <td>...</td>\n      <td>...</td>\n      <td>...</td>\n    </tr>\n    <tr>\n      <th>4342</th>\n      <td>18280</td>\n      <td>United Kingdom</td>\n      <td>180.60</td>\n      <td>--</td>\n    </tr>\n    <tr>\n      <th>4343</th>\n      <td>18281</td>\n      <td>United Kingdom</td>\n      <td>80.82</td>\n      <td>--</td>\n    </tr>\n    <tr>\n      <th>4344</th>\n      <td>18282</td>\n      <td>United Kingdom</td>\n      <td>178.05</td>\n      <td>--</td>\n    </tr>\n    <tr>\n      <th>4345</th>\n      <td>18283</td>\n      <td>United Kingdom</td>\n      <td>2094.88</td>\n      <td>Preferred</td>\n    </tr>\n    <tr>\n      <th>4346</th>\n      <td>18287</td>\n      <td>United Kingdom</td>\n      <td>1837.28</td>\n      <td>Preferred</td>\n    </tr>\n  </tbody>\n</table>\n<p>4347 rows × 4 columns</p>\n</div>",
      "text/plain": "      CustomerID         Country  TotalPaid        Tag\n0          12346  United Kingdom   77183.60        VIP\n1          12347         Iceland    4310.00  Preferred\n2          12348         Finland    1797.24  Preferred\n3          12349           Italy    1757.55  Preferred\n4          12350          Norway     334.40         --\n...          ...             ...        ...        ...\n4342       18280  United Kingdom     180.60         --\n4343       18281  United Kingdom      80.82         --\n4344       18282  United Kingdom     178.05         --\n4345       18283  United Kingdom    2094.88  Preferred\n4346       18287  United Kingdom    1837.28  Preferred\n\n[4347 rows x 4 columns]"
     },
     "execution_count": 110,
     "metadata": {},
     "output_type": "execute_result"
    }
   ],
   "source": [
    "def is_add_tag(paid, vip, pref):\n",
    "    tag = '--'\n",
    "    if (paid >= float(vip)):\n",
    "        tag = 'VIP'\n",
    "    elif (paid >= float(pref)):\n",
    "        tag = 'Preferred'\n",
    "    return tag\n",
    "\n",
    "paid_by_customer['Tag'] = paid_by_customer.apply(lambda row : is_add_tag(row.TotalPaid, q.iloc[0,1], q.iloc[1,1]), axis=1)\n",
    "paid_by_customer"
   ]
  },
  {
   "cell_type": "markdown",
   "metadata": {},
   "source": [
    "Now we'll leave it to you to solve Q2 & Q3, which you can leverage from your solution for Q1:\n",
    "\n",
    "## Q2: How to identify which country has the most VIP Customers?"
   ]
  },
  {
   "cell_type": "code",
   "execution_count": 120,
   "metadata": {},
   "outputs": [
    {
     "data": {
      "text/html": "<div>\n<style scoped>\n    .dataframe tbody tr th:only-of-type {\n        vertical-align: middle;\n    }\n\n    .dataframe tbody tr th {\n        vertical-align: top;\n    }\n\n    .dataframe thead th {\n        text-align: right;\n    }\n</style>\n<table border=\"1\" class=\"dataframe\">\n  <thead>\n    <tr style=\"text-align: right;\">\n      <th></th>\n      <th>Country</th>\n      <th>CustomerID</th>\n      <th>TotalPaid</th>\n      <th>Tag</th>\n    </tr>\n  </thead>\n  <tbody>\n    <tr>\n      <th>16</th>\n      <td>United Kingdom</td>\n      <td>178</td>\n      <td>178</td>\n      <td>178</td>\n    </tr>\n    <tr>\n      <th>7</th>\n      <td>Germany</td>\n      <td>11</td>\n      <td>11</td>\n      <td>11</td>\n    </tr>\n    <tr>\n      <th>6</th>\n      <td>France</td>\n      <td>9</td>\n      <td>9</td>\n      <td>9</td>\n    </tr>\n    <tr>\n      <th>15</th>\n      <td>Switzerland</td>\n      <td>3</td>\n      <td>3</td>\n      <td>3</td>\n    </tr>\n    <tr>\n      <th>13</th>\n      <td>Spain</td>\n      <td>2</td>\n      <td>2</td>\n      <td>2</td>\n    </tr>\n    <tr>\n      <th>11</th>\n      <td>Portugal</td>\n      <td>2</td>\n      <td>2</td>\n      <td>2</td>\n    </tr>\n    <tr>\n      <th>8</th>\n      <td>Japan</td>\n      <td>2</td>\n      <td>2</td>\n      <td>2</td>\n    </tr>\n    <tr>\n      <th>4</th>\n      <td>EIRE</td>\n      <td>2</td>\n      <td>2</td>\n      <td>2</td>\n    </tr>\n    <tr>\n      <th>5</th>\n      <td>Finland</td>\n      <td>1</td>\n      <td>1</td>\n      <td>1</td>\n    </tr>\n    <tr>\n      <th>1</th>\n      <td>Channel Islands</td>\n      <td>1</td>\n      <td>1</td>\n      <td>1</td>\n    </tr>\n    <tr>\n      <th>9</th>\n      <td>Netherlands</td>\n      <td>1</td>\n      <td>1</td>\n      <td>1</td>\n    </tr>\n    <tr>\n      <th>10</th>\n      <td>Norway</td>\n      <td>1</td>\n      <td>1</td>\n      <td>1</td>\n    </tr>\n    <tr>\n      <th>12</th>\n      <td>Singapore</td>\n      <td>1</td>\n      <td>1</td>\n      <td>1</td>\n    </tr>\n    <tr>\n      <th>3</th>\n      <td>Denmark</td>\n      <td>1</td>\n      <td>1</td>\n      <td>1</td>\n    </tr>\n    <tr>\n      <th>14</th>\n      <td>Sweden</td>\n      <td>1</td>\n      <td>1</td>\n      <td>1</td>\n    </tr>\n    <tr>\n      <th>2</th>\n      <td>Cyprus</td>\n      <td>1</td>\n      <td>1</td>\n      <td>1</td>\n    </tr>\n    <tr>\n      <th>0</th>\n      <td>Australia</td>\n      <td>1</td>\n      <td>1</td>\n      <td>1</td>\n    </tr>\n  </tbody>\n</table>\n</div>",
      "text/plain": "            Country  CustomerID  TotalPaid  Tag\n16   United Kingdom         178        178  178\n7           Germany          11         11   11\n6            France           9          9    9\n15      Switzerland           3          3    3\n13            Spain           2          2    2\n11         Portugal           2          2    2\n8             Japan           2          2    2\n4              EIRE           2          2    2\n5           Finland           1          1    1\n1   Channel Islands           1          1    1\n9       Netherlands           1          1    1\n10           Norway           1          1    1\n12        Singapore           1          1    1\n3           Denmark           1          1    1\n14           Sweden           1          1    1\n2            Cyprus           1          1    1\n0         Australia           1          1    1"
     },
     "execution_count": 120,
     "metadata": {},
     "output_type": "execute_result"
    }
   ],
   "source": [
    "# your code here\n",
    "vip_country = paid_by_customer[paid_by_customer.Tag == 'VIP'].groupby('Country', as_index=False).count()\n",
    "vip_country.sort_values('CustomerID', ascending=False)"
   ]
  },
  {
   "cell_type": "code",
   "execution_count": 121,
   "metadata": {},
   "outputs": [
    {
     "data": {
      "text/html": "<div>\n<style scoped>\n    .dataframe tbody tr th:only-of-type {\n        vertical-align: middle;\n    }\n\n    .dataframe tbody tr th {\n        vertical-align: top;\n    }\n\n    .dataframe thead th {\n        text-align: right;\n    }\n</style>\n<table border=\"1\" class=\"dataframe\">\n  <thead>\n    <tr style=\"text-align: right;\">\n      <th></th>\n      <th>Country</th>\n      <th>CustomerID</th>\n      <th>TotalPaid</th>\n      <th>Tag</th>\n    </tr>\n  </thead>\n  <tbody>\n    <tr>\n      <th>24</th>\n      <td>United Kingdom</td>\n      <td>756</td>\n      <td>756</td>\n      <td>756</td>\n    </tr>\n    <tr>\n      <th>10</th>\n      <td>Germany</td>\n      <td>28</td>\n      <td>28</td>\n      <td>28</td>\n    </tr>\n    <tr>\n      <th>9</th>\n      <td>France</td>\n      <td>20</td>\n      <td>20</td>\n      <td>20</td>\n    </tr>\n    <tr>\n      <th>2</th>\n      <td>Belgium</td>\n      <td>11</td>\n      <td>11</td>\n      <td>11</td>\n    </tr>\n    <tr>\n      <th>23</th>\n      <td>Switzerland</td>\n      <td>6</td>\n      <td>6</td>\n      <td>6</td>\n    </tr>\n    <tr>\n      <th>18</th>\n      <td>Norway</td>\n      <td>6</td>\n      <td>6</td>\n      <td>6</td>\n    </tr>\n    <tr>\n      <th>21</th>\n      <td>Spain</td>\n      <td>5</td>\n      <td>5</td>\n      <td>5</td>\n    </tr>\n    <tr>\n      <th>20</th>\n      <td>Portugal</td>\n      <td>5</td>\n      <td>5</td>\n      <td>5</td>\n    </tr>\n    <tr>\n      <th>14</th>\n      <td>Italy</td>\n      <td>5</td>\n      <td>5</td>\n      <td>5</td>\n    </tr>\n    <tr>\n      <th>8</th>\n      <td>Finland</td>\n      <td>4</td>\n      <td>4</td>\n      <td>4</td>\n    </tr>\n    <tr>\n      <th>0</th>\n      <td>Australia</td>\n      <td>3</td>\n      <td>3</td>\n      <td>3</td>\n    </tr>\n    <tr>\n      <th>4</th>\n      <td>Channel Islands</td>\n      <td>3</td>\n      <td>3</td>\n      <td>3</td>\n    </tr>\n    <tr>\n      <th>13</th>\n      <td>Israel</td>\n      <td>2</td>\n      <td>2</td>\n      <td>2</td>\n    </tr>\n    <tr>\n      <th>15</th>\n      <td>Japan</td>\n      <td>2</td>\n      <td>2</td>\n      <td>2</td>\n    </tr>\n    <tr>\n      <th>6</th>\n      <td>Denmark</td>\n      <td>2</td>\n      <td>2</td>\n      <td>2</td>\n    </tr>\n    <tr>\n      <th>5</th>\n      <td>Cyprus</td>\n      <td>2</td>\n      <td>2</td>\n      <td>2</td>\n    </tr>\n    <tr>\n      <th>11</th>\n      <td>Greece</td>\n      <td>1</td>\n      <td>1</td>\n      <td>1</td>\n    </tr>\n    <tr>\n      <th>1</th>\n      <td>Austria</td>\n      <td>1</td>\n      <td>1</td>\n      <td>1</td>\n    </tr>\n    <tr>\n      <th>7</th>\n      <td>EIRE</td>\n      <td>1</td>\n      <td>1</td>\n      <td>1</td>\n    </tr>\n    <tr>\n      <th>16</th>\n      <td>Lebanon</td>\n      <td>1</td>\n      <td>1</td>\n      <td>1</td>\n    </tr>\n    <tr>\n      <th>17</th>\n      <td>Malta</td>\n      <td>1</td>\n      <td>1</td>\n      <td>1</td>\n    </tr>\n    <tr>\n      <th>19</th>\n      <td>Poland</td>\n      <td>1</td>\n      <td>1</td>\n      <td>1</td>\n    </tr>\n    <tr>\n      <th>22</th>\n      <td>Sweden</td>\n      <td>1</td>\n      <td>1</td>\n      <td>1</td>\n    </tr>\n    <tr>\n      <th>3</th>\n      <td>Canada</td>\n      <td>1</td>\n      <td>1</td>\n      <td>1</td>\n    </tr>\n    <tr>\n      <th>12</th>\n      <td>Iceland</td>\n      <td>1</td>\n      <td>1</td>\n      <td>1</td>\n    </tr>\n  </tbody>\n</table>\n</div>",
      "text/plain": "            Country  CustomerID  TotalPaid  Tag\n24   United Kingdom         756        756  756\n10          Germany          28         28   28\n9            France          20         20   20\n2           Belgium          11         11   11\n23      Switzerland           6          6    6\n18           Norway           6          6    6\n21            Spain           5          5    5\n20         Portugal           5          5    5\n14            Italy           5          5    5\n8           Finland           4          4    4\n0         Australia           3          3    3\n4   Channel Islands           3          3    3\n13           Israel           2          2    2\n15            Japan           2          2    2\n6           Denmark           2          2    2\n5            Cyprus           2          2    2\n11           Greece           1          1    1\n1           Austria           1          1    1\n7              EIRE           1          1    1\n16          Lebanon           1          1    1\n17            Malta           1          1    1\n19           Poland           1          1    1\n22           Sweden           1          1    1\n3            Canada           1          1    1\n12          Iceland           1          1    1"
     },
     "execution_count": 121,
     "metadata": {},
     "output_type": "execute_result"
    }
   ],
   "source": [
    "preferred_country = paid_by_customer[paid_by_customer.Tag == 'Preferred'].groupby('Country', as_index=False).count()\n",
    "preferred_country.sort_values('CustomerID', ascending=False)"
   ]
  },
  {
   "cell_type": "markdown",
   "metadata": {},
   "source": [
    "## Q3: How to identify which country has the most VIP+Preferred Customers combined?"
   ]
  },
  {
   "cell_type": "code",
   "execution_count": 122,
   "metadata": {},
   "outputs": [
    {
     "data": {
      "text/html": "<div>\n<style scoped>\n    .dataframe tbody tr th:only-of-type {\n        vertical-align: middle;\n    }\n\n    .dataframe tbody tr th {\n        vertical-align: top;\n    }\n\n    .dataframe thead th {\n        text-align: right;\n    }\n</style>\n<table border=\"1\" class=\"dataframe\">\n  <thead>\n    <tr style=\"text-align: right;\">\n      <th></th>\n      <th>Country</th>\n      <th>CustomerID</th>\n      <th>TotalPaid</th>\n      <th>Tag</th>\n    </tr>\n  </thead>\n  <tbody>\n    <tr>\n      <th>16</th>\n      <td>United KingdomLebanon</td>\n      <td>179.0</td>\n      <td>179.0</td>\n      <td>179.0</td>\n    </tr>\n    <tr>\n      <th>10</th>\n      <td>NorwayGermany</td>\n      <td>29.0</td>\n      <td>29.0</td>\n      <td>29.0</td>\n    </tr>\n    <tr>\n      <th>9</th>\n      <td>NetherlandsFrance</td>\n      <td>21.0</td>\n      <td>21.0</td>\n      <td>21.0</td>\n    </tr>\n    <tr>\n      <th>7</th>\n      <td>GermanyEIRE</td>\n      <td>12.0</td>\n      <td>12.0</td>\n      <td>12.0</td>\n    </tr>\n    <tr>\n      <th>2</th>\n      <td>CyprusBelgium</td>\n      <td>12.0</td>\n      <td>12.0</td>\n      <td>12.0</td>\n    </tr>\n    <tr>\n      <th>6</th>\n      <td>FranceDenmark</td>\n      <td>11.0</td>\n      <td>11.0</td>\n      <td>11.0</td>\n    </tr>\n    <tr>\n      <th>14</th>\n      <td>SwedenItaly</td>\n      <td>6.0</td>\n      <td>6.0</td>\n      <td>6.0</td>\n    </tr>\n    <tr>\n      <th>8</th>\n      <td>JapanFinland</td>\n      <td>6.0</td>\n      <td>6.0</td>\n      <td>6.0</td>\n    </tr>\n    <tr>\n      <th>4</th>\n      <td>EIREChannel Islands</td>\n      <td>5.0</td>\n      <td>5.0</td>\n      <td>5.0</td>\n    </tr>\n    <tr>\n      <th>15</th>\n      <td>SwitzerlandJapan</td>\n      <td>5.0</td>\n      <td>5.0</td>\n      <td>5.0</td>\n    </tr>\n    <tr>\n      <th>13</th>\n      <td>SpainIsrael</td>\n      <td>4.0</td>\n      <td>4.0</td>\n      <td>4.0</td>\n    </tr>\n    <tr>\n      <th>0</th>\n      <td>AustraliaAustralia</td>\n      <td>4.0</td>\n      <td>4.0</td>\n      <td>4.0</td>\n    </tr>\n    <tr>\n      <th>5</th>\n      <td>FinlandCyprus</td>\n      <td>3.0</td>\n      <td>3.0</td>\n      <td>3.0</td>\n    </tr>\n    <tr>\n      <th>11</th>\n      <td>PortugalGreece</td>\n      <td>3.0</td>\n      <td>3.0</td>\n      <td>3.0</td>\n    </tr>\n    <tr>\n      <th>1</th>\n      <td>Channel IslandsAustria</td>\n      <td>2.0</td>\n      <td>2.0</td>\n      <td>2.0</td>\n    </tr>\n    <tr>\n      <th>12</th>\n      <td>SingaporeIceland</td>\n      <td>2.0</td>\n      <td>2.0</td>\n      <td>2.0</td>\n    </tr>\n    <tr>\n      <th>3</th>\n      <td>DenmarkCanada</td>\n      <td>2.0</td>\n      <td>2.0</td>\n      <td>2.0</td>\n    </tr>\n    <tr>\n      <th>17</th>\n      <td>NaN</td>\n      <td>NaN</td>\n      <td>NaN</td>\n      <td>NaN</td>\n    </tr>\n    <tr>\n      <th>18</th>\n      <td>NaN</td>\n      <td>NaN</td>\n      <td>NaN</td>\n      <td>NaN</td>\n    </tr>\n    <tr>\n      <th>19</th>\n      <td>NaN</td>\n      <td>NaN</td>\n      <td>NaN</td>\n      <td>NaN</td>\n    </tr>\n    <tr>\n      <th>20</th>\n      <td>NaN</td>\n      <td>NaN</td>\n      <td>NaN</td>\n      <td>NaN</td>\n    </tr>\n    <tr>\n      <th>21</th>\n      <td>NaN</td>\n      <td>NaN</td>\n      <td>NaN</td>\n      <td>NaN</td>\n    </tr>\n    <tr>\n      <th>22</th>\n      <td>NaN</td>\n      <td>NaN</td>\n      <td>NaN</td>\n      <td>NaN</td>\n    </tr>\n    <tr>\n      <th>23</th>\n      <td>NaN</td>\n      <td>NaN</td>\n      <td>NaN</td>\n      <td>NaN</td>\n    </tr>\n    <tr>\n      <th>24</th>\n      <td>NaN</td>\n      <td>NaN</td>\n      <td>NaN</td>\n      <td>NaN</td>\n    </tr>\n  </tbody>\n</table>\n</div>",
      "text/plain": "                   Country  CustomerID  TotalPaid    Tag\n16   United KingdomLebanon       179.0      179.0  179.0\n10           NorwayGermany        29.0       29.0   29.0\n9        NetherlandsFrance        21.0       21.0   21.0\n7              GermanyEIRE        12.0       12.0   12.0\n2            CyprusBelgium        12.0       12.0   12.0\n6            FranceDenmark        11.0       11.0   11.0\n14             SwedenItaly         6.0        6.0    6.0\n8             JapanFinland         6.0        6.0    6.0\n4      EIREChannel Islands         5.0        5.0    5.0\n15        SwitzerlandJapan         5.0        5.0    5.0\n13             SpainIsrael         4.0        4.0    4.0\n0       AustraliaAustralia         4.0        4.0    4.0\n5            FinlandCyprus         3.0        3.0    3.0\n11          PortugalGreece         3.0        3.0    3.0\n1   Channel IslandsAustria         2.0        2.0    2.0\n12        SingaporeIceland         2.0        2.0    2.0\n3            DenmarkCanada         2.0        2.0    2.0\n17                     NaN         NaN        NaN    NaN\n18                     NaN         NaN        NaN    NaN\n19                     NaN         NaN        NaN    NaN\n20                     NaN         NaN        NaN    NaN\n21                     NaN         NaN        NaN    NaN\n22                     NaN         NaN        NaN    NaN\n23                     NaN         NaN        NaN    NaN\n24                     NaN         NaN        NaN    NaN"
     },
     "execution_count": 122,
     "metadata": {},
     "output_type": "execute_result"
    }
   ],
   "source": [
    "# your code here\n",
    "top_country = vip_country + preferred_country\n",
    "top_country.sort_values('CustomerID', ascending=False)"
   ]
  }
 ],
 "metadata": {
  "kernelspec": {
   "display_name": "Python 3.7.6 64-bit",
   "language": "python",
   "name": "python37664bite61034f5ef0c466e91726dec7b83c0f7"
  },
  "language_info": {
   "codemirror_mode": {
    "name": "ipython",
    "version": 3
   },
   "file_extension": ".py",
   "mimetype": "text/x-python",
   "name": "python",
   "nbconvert_exporter": "python",
   "pygments_lexer": "ipython3",
   "version": "3.7.6-final"
  }
 },
 "nbformat": 4,
 "nbformat_minor": 2
}