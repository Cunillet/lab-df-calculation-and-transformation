{
 "cells": [
  {
   "cell_type": "markdown",
   "execution_count": null,
   "metadata": {},
   "outputs": [],
   "source": [
    "# Mandatory Challenge\n",
    "## Context\n",
    "You work in the data analysis team of a very important company. On Monday, the company shares some good news with you: you just got hired by a major retail company! So, let's get prepared for a huge amount of work!\n",
    "\n",
    "Then you get to work with your team and define the following tasks to perform:   \n",
    "1. You need to start your analysis using data from the past.  \n",
    "2. You need to define a process that takes your daily data as an input and integrates it.  \n",
    "\n",
    "You are in charge of the second part, so you are provided with a sample file that you will have to read daily. To complete you task, you need the following aggregates:\n",
    "* One aggregate per store that adds up the rest of the values.\n",
    "* One aggregate per item that adds up the rest of the values.\n",
    "\n",
    "You can import the dataset `retail_sales` from Ironhack's database. \n",
    "\n",
    "## Your task\n",
    "Therefore, your process will consist of the following steps:\n",
    "1. Read the sample file that a daily process will save in your folder. \n",
    "2. Clean up the data.\n",
    "3. Create the aggregates.\n",
    "4. Write three tables in your local database: \n",
    "    - A table for the cleaned data.\n",
    "    - A table for the aggregate per store.\n",
    "    - A table for the aggregate per item.\n",
    "\n",
    "## Instructions\n",
    "* Read the csv you can find in Ironhack's database.\n",
    "* Clean the data and create the aggregates as you consider.\n",
    "* Create the tables in your local database.\n",
    "* Populate them with your process."
   ]
  },
  {
   "cell_type": "code",
   "execution_count": 42,
   "metadata": {},
   "outputs": [],
   "source": [
    "# your code here\n",
    "from sqlalchemy import create_engine\n",
    "import pandas as pd\n",
    "import pymysql\n",
    "\n",
    "driver   = 'mysql+pymysql:'\n",
    "user     = 'data-students'\n",
    "password = 'iR0nH@cK-D4T4B4S3'\n",
    "ip       = '34.65.10.136'\n",
    "database = 'retail_sales'\n",
    "connection_string = f'{driver}//{user}:{password}@{ip}/{database}'\n",
    "engine = create_engine(connection_string)\n",
    "conn = engine.connect()"
   ]
  },
  {
   "cell_type": "code",
   "execution_count": 43,
   "metadata": {},
   "outputs": [
    {
     "name": "stdout",
     "output_type": "stream",
     "text": "Tables_in_retail_sales\n0              raw_sales\n"
    }
   ],
   "source": [
    "print(pd.read_sql('SHOW TABLES', conn))"
   ]
  },
  {
   "cell_type": "code",
   "execution_count": 70,
   "metadata": {},
   "outputs": [
    {
     "data": {
      "text/html": "<div>\n<style scoped>\n    .dataframe tbody tr th:only-of-type {\n        vertical-align: middle;\n    }\n\n    .dataframe tbody tr th {\n        vertical-align: top;\n    }\n\n    .dataframe thead th {\n        text-align: right;\n    }\n</style>\n<table border=\"1\" class=\"dataframe\">\n  <thead>\n    <tr style=\"text-align: right;\">\n      <th></th>\n      <th>date</th>\n      <th>shop_id</th>\n      <th>item_id</th>\n      <th>item_price</th>\n      <th>item_cnt_day</th>\n    </tr>\n  </thead>\n  <tbody>\n    <tr>\n      <th>0</th>\n      <td>2015-01-04</td>\n      <td>29</td>\n      <td>1469</td>\n      <td>1199.0</td>\n      <td>1.0</td>\n    </tr>\n    <tr>\n      <th>1</th>\n      <td>2015-01-04</td>\n      <td>28</td>\n      <td>21364</td>\n      <td>479.0</td>\n      <td>1.0</td>\n    </tr>\n    <tr>\n      <th>2</th>\n      <td>2015-01-04</td>\n      <td>28</td>\n      <td>21365</td>\n      <td>999.0</td>\n      <td>2.0</td>\n    </tr>\n    <tr>\n      <th>3</th>\n      <td>2015-01-04</td>\n      <td>28</td>\n      <td>22104</td>\n      <td>249.0</td>\n      <td>2.0</td>\n    </tr>\n    <tr>\n      <th>4</th>\n      <td>2015-01-04</td>\n      <td>28</td>\n      <td>22091</td>\n      <td>179.0</td>\n      <td>1.0</td>\n    </tr>\n  </tbody>\n</table>\n</div>",
      "text/plain": "        date  shop_id  item_id  item_price  item_cnt_day\n0 2015-01-04       29     1469      1199.0           1.0\n1 2015-01-04       28    21364       479.0           1.0\n2 2015-01-04       28    21365       999.0           2.0\n3 2015-01-04       28    22104       249.0           2.0\n4 2015-01-04       28    22091       179.0           1.0"
     },
     "execution_count": 70,
     "metadata": {},
     "output_type": "execute_result"
    }
   ],
   "source": [
    "df = pd.read_sql('SELECT * FROM raw_sales', conn)\n",
    "df.head()"
   ]
  },
  {
   "cell_type": "code",
   "execution_count": 71,
   "metadata": {},
   "outputs": [
    {
     "data": {
      "text/html": "<div>\n<style scoped>\n    .dataframe tbody tr th:only-of-type {\n        vertical-align: middle;\n    }\n\n    .dataframe tbody tr th {\n        vertical-align: top;\n    }\n\n    .dataframe thead th {\n        text-align: right;\n    }\n</style>\n<table border=\"1\" class=\"dataframe\">\n  <thead>\n    <tr style=\"text-align: right;\">\n      <th></th>\n      <th>date</th>\n      <th>shop_id</th>\n      <th>item_id</th>\n      <th>item_price</th>\n      <th>item_cnt_day</th>\n    </tr>\n  </thead>\n  <tbody>\n  </tbody>\n</table>\n</div>",
      "text/plain": "Empty DataFrame\nColumns: [date, shop_id, item_id, item_price, item_cnt_day]\nIndex: []"
     },
     "execution_count": 71,
     "metadata": {},
     "output_type": "execute_result"
    }
   ],
   "source": [
    "df[df.isna().any(axis=1)]"
   ]
  },
  {
   "cell_type": "code",
   "execution_count": 72,
   "metadata": {},
   "outputs": [
    {
     "name": "stdout",
     "output_type": "stream",
     "text": "0\n"
    }
   ],
   "source": [
    "\n",
    "print(df[df.columns[df.isnull().any()]].isnull().sum().size)"
   ]
  },
  {
   "cell_type": "code",
   "execution_count": 73,
   "metadata": {},
   "outputs": [
    {
     "name": "stdout",
     "output_type": "stream",
     "text": "date  shop_id  item_id  item_price  item_cnt_day\n1515 2015-01-04       29     1469      1199.0           1.0\n1516 2015-01-04       28    21364       479.0           1.0\n1517 2015-01-04       28    21365       999.0           2.0\n1518 2015-01-04       28    22104       249.0           2.0\n1519 2015-01-04       28    22091       179.0           1.0\n...         ...      ...      ...         ...           ...\n4540 2015-01-04       15     4240      1299.0           1.0\n4541 2015-01-04       14    21922        99.0           1.0\n4542 2015-01-04       15     1969      3999.0           1.0\n4543 2015-01-04       14    22091       179.0           1.0\n4544 2015-01-04       15     1007      1199.0           1.0\n\n[3030 rows x 5 columns]\n"
    }
   ],
   "source": [
    "duplicated = df[df.duplicated(['date','shop_id','item_id','item_price','item_cnt_day'])]\n",
    "print(duplicated)\n",
    "conn.close()\n",
    "engine.dispose()"
   ]
  },
  {
   "cell_type": "code",
   "execution_count": 97,
   "metadata": {},
   "outputs": [],
   "source": [
    "driver   = 'mysql+pymysql:'\n",
    "user     = 'root'\n",
    "password = '53cawentOo69'\n",
    "ip       = 'localhost'\n",
    "database = 'retail_sales'\n",
    "connection_string = f'{driver}//{user}:{password}@{ip}/{database}'\n",
    "engine = create_engine(connection_string)\n",
    "conn = engine.connect()"
   ]
  },
  {
   "cell_type": "code",
   "execution_count": 98,
   "metadata": {},
   "outputs": [],
   "source": [
    "df.to_sql('raw_sales1', conn, if_exists='replace')\n"
   ]
  },
  {
   "cell_type": "code",
   "execution_count": 99,
   "metadata": {},
   "outputs": [],
   "source": [
    "shop_df = df.groupby(by=['shop_id','date']).sum()\n",
    "shop_df1 = df.copy()"
   ]
  },
  {
   "cell_type": "code",
   "execution_count": 100,
   "metadata": {},
   "outputs": [
    {
     "data": {
      "text/html": "<div>\n<style scoped>\n    .dataframe tbody tr th:only-of-type {\n        vertical-align: middle;\n    }\n\n    .dataframe tbody tr th {\n        vertical-align: top;\n    }\n\n    .dataframe thead th {\n        text-align: right;\n    }\n</style>\n<table border=\"1\" class=\"dataframe\">\n  <thead>\n    <tr style=\"text-align: right;\">\n      <th></th>\n      <th>date</th>\n      <th>shop_id</th>\n      <th>item_id</th>\n      <th>item_price</th>\n      <th>item_cnt_day</th>\n    </tr>\n  </thead>\n  <tbody>\n    <tr>\n      <th>0</th>\n      <td>2015-01-04</td>\n      <td>29</td>\n      <td>1469</td>\n      <td>1199.0</td>\n      <td>1.0</td>\n    </tr>\n    <tr>\n      <th>1</th>\n      <td>2015-01-04</td>\n      <td>28</td>\n      <td>21364</td>\n      <td>479.0</td>\n      <td>1.0</td>\n    </tr>\n    <tr>\n      <th>2</th>\n      <td>2015-01-04</td>\n      <td>28</td>\n      <td>21365</td>\n      <td>999.0</td>\n      <td>2.0</td>\n    </tr>\n    <tr>\n      <th>3</th>\n      <td>2015-01-04</td>\n      <td>28</td>\n      <td>22104</td>\n      <td>249.0</td>\n      <td>2.0</td>\n    </tr>\n    <tr>\n      <th>4</th>\n      <td>2015-01-04</td>\n      <td>28</td>\n      <td>22091</td>\n      <td>179.0</td>\n      <td>1.0</td>\n    </tr>\n    <tr>\n      <th>...</th>\n      <td>...</td>\n      <td>...</td>\n      <td>...</td>\n      <td>...</td>\n      <td>...</td>\n    </tr>\n    <tr>\n      <th>4540</th>\n      <td>2015-01-04</td>\n      <td>15</td>\n      <td>4240</td>\n      <td>1299.0</td>\n      <td>1.0</td>\n    </tr>\n    <tr>\n      <th>4541</th>\n      <td>2015-01-04</td>\n      <td>14</td>\n      <td>21922</td>\n      <td>99.0</td>\n      <td>1.0</td>\n    </tr>\n    <tr>\n      <th>4542</th>\n      <td>2015-01-04</td>\n      <td>15</td>\n      <td>1969</td>\n      <td>3999.0</td>\n      <td>1.0</td>\n    </tr>\n    <tr>\n      <th>4543</th>\n      <td>2015-01-04</td>\n      <td>14</td>\n      <td>22091</td>\n      <td>179.0</td>\n      <td>1.0</td>\n    </tr>\n    <tr>\n      <th>4544</th>\n      <td>2015-01-04</td>\n      <td>15</td>\n      <td>1007</td>\n      <td>1199.0</td>\n      <td>1.0</td>\n    </tr>\n  </tbody>\n</table>\n<p>4545 rows × 5 columns</p>\n</div>",
      "text/plain": "           date  shop_id  item_id  item_price  item_cnt_day\n0    2015-01-04       29     1469      1199.0           1.0\n1    2015-01-04       28    21364       479.0           1.0\n2    2015-01-04       28    21365       999.0           2.0\n3    2015-01-04       28    22104       249.0           2.0\n4    2015-01-04       28    22091       179.0           1.0\n...         ...      ...      ...         ...           ...\n4540 2015-01-04       15     4240      1299.0           1.0\n4541 2015-01-04       14    21922        99.0           1.0\n4542 2015-01-04       15     1969      3999.0           1.0\n4543 2015-01-04       14    22091       179.0           1.0\n4544 2015-01-04       15     1007      1199.0           1.0\n\n[4545 rows x 5 columns]"
     },
     "execution_count": 100,
     "metadata": {},
     "output_type": "execute_result"
    }
   ],
   "source": [
    "df"
   ]
  },
  {
   "cell_type": "code",
   "execution_count": 101,
   "metadata": {},
   "outputs": [
    {
     "data": {
      "text/html": "<div>\n<style scoped>\n    .dataframe tbody tr th:only-of-type {\n        vertical-align: middle;\n    }\n\n    .dataframe tbody tr th {\n        vertical-align: top;\n    }\n\n    .dataframe thead th {\n        text-align: right;\n    }\n</style>\n<table border=\"1\" class=\"dataframe\">\n  <thead>\n    <tr style=\"text-align: right;\">\n      <th></th>\n      <th>date</th>\n      <th>shop_id</th>\n      <th>item_id</th>\n      <th>item_price</th>\n      <th>item_cnt_day</th>\n      <th>sales_per_item</th>\n    </tr>\n  </thead>\n  <tbody>\n    <tr>\n      <th>0</th>\n      <td>2015-01-04</td>\n      <td>29</td>\n      <td>1469</td>\n      <td>1199.0</td>\n      <td>1.0</td>\n      <td>1199.0</td>\n    </tr>\n    <tr>\n      <th>1</th>\n      <td>2015-01-04</td>\n      <td>28</td>\n      <td>21364</td>\n      <td>479.0</td>\n      <td>1.0</td>\n      <td>479.0</td>\n    </tr>\n    <tr>\n      <th>2</th>\n      <td>2015-01-04</td>\n      <td>28</td>\n      <td>21365</td>\n      <td>999.0</td>\n      <td>2.0</td>\n      <td>1998.0</td>\n    </tr>\n    <tr>\n      <th>3</th>\n      <td>2015-01-04</td>\n      <td>28</td>\n      <td>22104</td>\n      <td>249.0</td>\n      <td>2.0</td>\n      <td>498.0</td>\n    </tr>\n    <tr>\n      <th>4</th>\n      <td>2015-01-04</td>\n      <td>28</td>\n      <td>22091</td>\n      <td>179.0</td>\n      <td>1.0</td>\n      <td>179.0</td>\n    </tr>\n    <tr>\n      <th>...</th>\n      <td>...</td>\n      <td>...</td>\n      <td>...</td>\n      <td>...</td>\n      <td>...</td>\n      <td>...</td>\n    </tr>\n    <tr>\n      <th>4540</th>\n      <td>2015-01-04</td>\n      <td>15</td>\n      <td>4240</td>\n      <td>1299.0</td>\n      <td>1.0</td>\n      <td>1299.0</td>\n    </tr>\n    <tr>\n      <th>4541</th>\n      <td>2015-01-04</td>\n      <td>14</td>\n      <td>21922</td>\n      <td>99.0</td>\n      <td>1.0</td>\n      <td>99.0</td>\n    </tr>\n    <tr>\n      <th>4542</th>\n      <td>2015-01-04</td>\n      <td>15</td>\n      <td>1969</td>\n      <td>3999.0</td>\n      <td>1.0</td>\n      <td>3999.0</td>\n    </tr>\n    <tr>\n      <th>4543</th>\n      <td>2015-01-04</td>\n      <td>14</td>\n      <td>22091</td>\n      <td>179.0</td>\n      <td>1.0</td>\n      <td>179.0</td>\n    </tr>\n    <tr>\n      <th>4544</th>\n      <td>2015-01-04</td>\n      <td>15</td>\n      <td>1007</td>\n      <td>1199.0</td>\n      <td>1.0</td>\n      <td>1199.0</td>\n    </tr>\n  </tbody>\n</table>\n<p>4545 rows × 6 columns</p>\n</div>",
      "text/plain": "           date  shop_id  item_id  item_price  item_cnt_day  sales_per_item\n0    2015-01-04       29     1469      1199.0           1.0          1199.0\n1    2015-01-04       28    21364       479.0           1.0           479.0\n2    2015-01-04       28    21365       999.0           2.0          1998.0\n3    2015-01-04       28    22104       249.0           2.0           498.0\n4    2015-01-04       28    22091       179.0           1.0           179.0\n...         ...      ...      ...         ...           ...             ...\n4540 2015-01-04       15     4240      1299.0           1.0          1299.0\n4541 2015-01-04       14    21922        99.0           1.0            99.0\n4542 2015-01-04       15     1969      3999.0           1.0          3999.0\n4543 2015-01-04       14    22091       179.0           1.0           179.0\n4544 2015-01-04       15     1007      1199.0           1.0          1199.0\n\n[4545 rows x 6 columns]"
     },
     "execution_count": 101,
     "metadata": {},
     "output_type": "execute_result"
    }
   ],
   "source": [
    "def get_sales_amount_item(row):\n",
    "    return row.item_price * row.item_cnt_day\n",
    "\n",
    "shop_df1['sales_per_item'] = shop_df1.apply(lambda row : get_sales_amount_item(row), axis=1)\n",
    "shop_df1"
   ]
  },
  {
   "cell_type": "code",
   "execution_count": 102,
   "metadata": {},
   "outputs": [
    {
     "data": {
      "text/html": "<div>\n<style scoped>\n    .dataframe tbody tr th:only-of-type {\n        vertical-align: middle;\n    }\n\n    .dataframe tbody tr th {\n        vertical-align: top;\n    }\n\n    .dataframe thead th {\n        text-align: right;\n    }\n</style>\n<table border=\"1\" class=\"dataframe\">\n  <thead>\n    <tr style=\"text-align: right;\">\n      <th></th>\n      <th>sales_per_item</th>\n    </tr>\n    <tr>\n      <th>shop_id</th>\n      <th></th>\n    </tr>\n  </thead>\n  <tbody>\n    <tr>\n      <th>2</th>\n      <td>103746.0</td>\n    </tr>\n    <tr>\n      <th>3</th>\n      <td>67443.0</td>\n    </tr>\n    <tr>\n      <th>4</th>\n      <td>29361.0</td>\n    </tr>\n    <tr>\n      <th>5</th>\n      <td>33138.0</td>\n    </tr>\n    <tr>\n      <th>6</th>\n      <td>138678.0</td>\n    </tr>\n    <tr>\n      <th>7</th>\n      <td>52371.0</td>\n    </tr>\n    <tr>\n      <th>10</th>\n      <td>22716.0</td>\n    </tr>\n    <tr>\n      <th>12</th>\n      <td>295173.0</td>\n    </tr>\n    <tr>\n      <th>14</th>\n      <td>57450.0</td>\n    </tr>\n    <tr>\n      <th>15</th>\n      <td>125139.0</td>\n    </tr>\n    <tr>\n      <th>16</th>\n      <td>121923.0</td>\n    </tr>\n    <tr>\n      <th>18</th>\n      <td>35787.0</td>\n    </tr>\n    <tr>\n      <th>19</th>\n      <td>51420.0</td>\n    </tr>\n    <tr>\n      <th>21</th>\n      <td>228999.0</td>\n    </tr>\n    <tr>\n      <th>22</th>\n      <td>150717.0</td>\n    </tr>\n    <tr>\n      <th>24</th>\n      <td>56955.0</td>\n    </tr>\n    <tr>\n      <th>25</th>\n      <td>288432.0</td>\n    </tr>\n    <tr>\n      <th>26</th>\n      <td>120462.0</td>\n    </tr>\n    <tr>\n      <th>27</th>\n      <td>172959.0</td>\n    </tr>\n    <tr>\n      <th>28</th>\n      <td>202512.0</td>\n    </tr>\n    <tr>\n      <th>29</th>\n      <td>85737.0</td>\n    </tr>\n    <tr>\n      <th>31</th>\n      <td>304692.0</td>\n    </tr>\n    <tr>\n      <th>34</th>\n      <td>12117.0</td>\n    </tr>\n    <tr>\n      <th>35</th>\n      <td>65769.0</td>\n    </tr>\n    <tr>\n      <th>37</th>\n      <td>220500.0</td>\n    </tr>\n    <tr>\n      <th>38</th>\n      <td>73482.0</td>\n    </tr>\n    <tr>\n      <th>39</th>\n      <td>34686.0</td>\n    </tr>\n    <tr>\n      <th>41</th>\n      <td>36840.0</td>\n    </tr>\n    <tr>\n      <th>42</th>\n      <td>330111.0</td>\n    </tr>\n    <tr>\n      <th>44</th>\n      <td>137445.0</td>\n    </tr>\n    <tr>\n      <th>45</th>\n      <td>82350.0</td>\n    </tr>\n    <tr>\n      <th>46</th>\n      <td>93903.0</td>\n    </tr>\n    <tr>\n      <th>47</th>\n      <td>80142.0</td>\n    </tr>\n    <tr>\n      <th>48</th>\n      <td>32745.0</td>\n    </tr>\n    <tr>\n      <th>49</th>\n      <td>35784.0</td>\n    </tr>\n    <tr>\n      <th>50</th>\n      <td>142053.0</td>\n    </tr>\n    <tr>\n      <th>51</th>\n      <td>10665.0</td>\n    </tr>\n    <tr>\n      <th>52</th>\n      <td>63531.0</td>\n    </tr>\n    <tr>\n      <th>53</th>\n      <td>50505.0</td>\n    </tr>\n    <tr>\n      <th>54</th>\n      <td>125343.0</td>\n    </tr>\n    <tr>\n      <th>55</th>\n      <td>170847.6</td>\n    </tr>\n    <tr>\n      <th>56</th>\n      <td>54906.0</td>\n    </tr>\n    <tr>\n      <th>57</th>\n      <td>226269.0</td>\n    </tr>\n    <tr>\n      <th>58</th>\n      <td>142863.0</td>\n    </tr>\n    <tr>\n      <th>59</th>\n      <td>113109.0</td>\n    </tr>\n  </tbody>\n</table>\n</div>",
      "text/plain": "         sales_per_item\nshop_id                \n2              103746.0\n3               67443.0\n4               29361.0\n5               33138.0\n6              138678.0\n7               52371.0\n10              22716.0\n12             295173.0\n14              57450.0\n15             125139.0\n16             121923.0\n18              35787.0\n19              51420.0\n21             228999.0\n22             150717.0\n24              56955.0\n25             288432.0\n26             120462.0\n27             172959.0\n28             202512.0\n29              85737.0\n31             304692.0\n34              12117.0\n35              65769.0\n37             220500.0\n38              73482.0\n39              34686.0\n41              36840.0\n42             330111.0\n44             137445.0\n45              82350.0\n46              93903.0\n47              80142.0\n48              32745.0\n49              35784.0\n50             142053.0\n51              10665.0\n52              63531.0\n53              50505.0\n54             125343.0\n55             170847.6\n56              54906.0\n57             226269.0\n58             142863.0\n59             113109.0"
     },
     "execution_count": 102,
     "metadata": {},
     "output_type": "execute_result"
    }
   ],
   "source": [
    "# SALES PER SHOP\n",
    "sales_shop_df = shop_df1.copy()\n",
    "#sales_shop_df = sales_shop_df.groupby(by=['shop_id','date'])[['sales_per_item']].sum()\n",
    "sales_shop_df = sales_shop_df.groupby(by=['shop_id']).agg({'sales_per_item':'sum'})\n",
    "sales_shop_df"
   ]
  },
  {
   "cell_type": "code",
   "execution_count": 104,
   "metadata": {},
   "outputs": [
    {
     "data": {
      "text/html": "<div>\n<style scoped>\n    .dataframe tbody tr th:only-of-type {\n        vertical-align: middle;\n    }\n\n    .dataframe tbody tr th {\n        vertical-align: top;\n    }\n\n    .dataframe thead th {\n        text-align: right;\n    }\n</style>\n<table border=\"1\" class=\"dataframe\">\n  <thead>\n    <tr style=\"text-align: right;\">\n      <th></th>\n      <th>sales_per_item</th>\n    </tr>\n    <tr>\n      <th>item_id</th>\n      <th></th>\n    </tr>\n  </thead>\n  <tbody>\n    <tr>\n      <th>30</th>\n      <td>507.0</td>\n    </tr>\n    <tr>\n      <th>31</th>\n      <td>1089.0</td>\n    </tr>\n    <tr>\n      <th>32</th>\n      <td>447.0</td>\n    </tr>\n    <tr>\n      <th>42</th>\n      <td>897.0</td>\n    </tr>\n    <tr>\n      <th>59</th>\n      <td>747.0</td>\n    </tr>\n    <tr>\n      <th>...</th>\n      <td>...</td>\n    </tr>\n    <tr>\n      <th>22091</th>\n      <td>1074.0</td>\n    </tr>\n    <tr>\n      <th>22092</th>\n      <td>537.0</td>\n    </tr>\n    <tr>\n      <th>22104</th>\n      <td>1494.0</td>\n    </tr>\n    <tr>\n      <th>22140</th>\n      <td>652.5</td>\n    </tr>\n    <tr>\n      <th>22162</th>\n      <td>7182.0</td>\n    </tr>\n  </tbody>\n</table>\n<p>985 rows × 1 columns</p>\n</div>",
      "text/plain": "         sales_per_item\nitem_id                \n30                507.0\n31               1089.0\n32                447.0\n42                897.0\n59                747.0\n...                 ...\n22091            1074.0\n22092             537.0\n22104            1494.0\n22140             652.5\n22162            7182.0\n\n[985 rows x 1 columns]"
     },
     "execution_count": 104,
     "metadata": {},
     "output_type": "execute_result"
    }
   ],
   "source": [
    "sales_item_df = shop_df1.copy()\n",
    "sales_item_df = sales_item_df.groupby(by=['item_id']).agg({'sales_per_item':'sum'})\n",
    "sales_item_df"
   ]
  },
  {
   "cell_type": "code",
   "execution_count": null,
   "metadata": {},
   "outputs": [],
   "source": []
  }
 ],
 "metadata": {
  "kernelspec": {
   "display_name": "Python 3.7.6 64-bit",
   "language": "python",
   "name": "python37664bite61034f5ef0c466e91726dec7b83c0f7"
  }
 },
 "nbformat": 4,
 "nbformat_minor": 2
}